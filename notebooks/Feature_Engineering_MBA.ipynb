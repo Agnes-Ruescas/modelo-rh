{
  "nbformat": 4,
  "nbformat_minor": 0,
  "metadata": {
    "colab": {
      "provenance": []
    },
    "kernelspec": {
      "name": "python3",
      "display_name": "Python 3"
    },
    "language_info": {
      "name": "python"
    }
  },
  "cells": [
    {
      "cell_type": "code",
      "execution_count": null,
      "metadata": {
        "id": "g2iqcY7tif3X"
      },
      "outputs": [],
      "source": [
        "# Imports\n",
        "import pandas as pd\n",
        "import numpy as np\n",
        "\n",
        "# Carregar dataset\n",
        "df = pd.read_csv('sample_data/WA_Fn-UseC_-HR-Employee-Attrition.csv')\n",
        "\n",
        "# Converter Attrition para binário\n",
        "df['Attrition'] = df['Attrition'].map({'Yes': 1, 'No': 0})\n"
      ]
    },
    {
      "cell_type": "code",
      "source": [
        "df['IncomePerYearWorked'] = df['MonthlyIncome'] / (df['TotalWorkingYears'] + 1)"
      ],
      "metadata": {
        "id": "IV6uwOcgjunv"
      },
      "execution_count": null,
      "outputs": []
    },
    {
      "cell_type": "markdown",
      "source": [
        "Motivação: Um salário desproporcional à experiência pode indicar insatisfação salarial"
      ],
      "metadata": {
        "id": "lZ_9brjlj0ss"
      }
    },
    {
      "cell_type": "code",
      "source": [
        "df['TimeInCompanyRatio'] = df['YearsAtCompany'] / (df['TotalWorkingYears'] + 1)"
      ],
      "metadata": {
        "id": "T76v3G_2j6pz"
      },
      "execution_count": null,
      "outputs": []
    },
    {
      "cell_type": "markdown",
      "source": [
        "Motivação: Funcionários mais novos na empresa podem estar em período de adaptação."
      ],
      "metadata": {
        "id": "JT4Bwk2pkGxg"
      }
    },
    {
      "cell_type": "code",
      "source": [
        "df['RecentPromotion'] = df['YearsSinceLastPromotion'] <= 1"
      ],
      "metadata": {
        "id": "gRpiJESAkQRQ"
      },
      "execution_count": null,
      "outputs": []
    },
    {
      "cell_type": "markdown",
      "source": [
        "Motivção: Uma pessoa recém promovida pode ter menos risco de saída"
      ],
      "metadata": {
        "id": "lruFnTgckUzV"
      }
    },
    {
      "cell_type": "code",
      "source": [
        "df['SatisfactionLevelAvg'] = df[['JobSatisfaction', 'EnvironmentSatisfaction', 'RelationshipSatisfaction']].mean(axis=1)"
      ],
      "metadata": {
        "id": "SSYNt45tkhDs"
      },
      "execution_count": null,
      "outputs": []
    },
    {
      "cell_type": "markdown",
      "source": [
        "Motivação: Ter o valor médio de satisfação ajuda na visão geral"
      ],
      "metadata": {
        "id": "t6NZWRtXkmNg"
      }
    },
    {
      "cell_type": "code",
      "source": [
        "df['TravelFrequently'] = df['BusinessTravel'].isin(['Travel_Frequently']).astype(int)"
      ],
      "metadata": {
        "id": "V-C0rBwUkt5-"
      },
      "execution_count": null,
      "outputs": []
    },
    {
      "cell_type": "markdown",
      "source": [
        "Motivação: Pessoas que viajam mais, podem ter maior indice de saída devido a cansaço\n"
      ],
      "metadata": {
        "id": "rAUO4Rlokz1H"
      }
    },
    {
      "cell_type": "code",
      "source": [
        "df['LowIncome'] = df['MonthlyIncome'] < df['MonthlyIncome'].median()"
      ],
      "metadata": {
        "id": "L0qsTYr1k8Pv"
      },
      "execution_count": null,
      "outputs": []
    },
    {
      "cell_type": "markdown",
      "source": [
        "Motivação: Pessoas com menores salários são mais propensos a procurar melhores oportunidades"
      ],
      "metadata": {
        "id": "hpZTNmetlBJS"
      }
    },
    {
      "cell_type": "code",
      "source": [
        "df['HighWorkload'] = (df['OverTime'] == 'Yes') & (df['NumCompaniesWorked'] > 3)"
      ],
      "metadata": {
        "id": "EtyTYsDllR04"
      },
      "execution_count": null,
      "outputs": []
    },
    {
      "cell_type": "markdown",
      "source": [
        "Motivação: Pessoas que trabalham muito e já tiverem uma rotatividade de empresas, pode ser indicador para possivel saída"
      ],
      "metadata": {
        "id": "toci5FkXluTO"
      }
    },
    {
      "cell_type": "code",
      "source": [
        "df['LongDistance'] = df['DistanceFromHome'] > df['DistanceFromHome'].median()\n"
      ],
      "metadata": {
        "id": "H6mA_HMdmbib"
      },
      "execution_count": null,
      "outputs": []
    },
    {
      "cell_type": "markdown",
      "source": [
        "Motivação: Pessoas que vivem longe podem procurar oportunidades mais próximas"
      ],
      "metadata": {
        "id": "4Zvd4vCWmdw0"
      }
    },
    {
      "cell_type": "code",
      "source": [
        "df['YearsInRolePercent'] = df['YearsInCurrentRole'] / (df['YearsAtCompany'] + 1)\n"
      ],
      "metadata": {
        "id": "OAcaQ4wXmjir"
      },
      "execution_count": null,
      "outputs": []
    },
    {
      "cell_type": "markdown",
      "source": [
        "Motivação: Uma pessoa que fica muito tempo no mesmo cargo pode se desmotivar e procurar outra oportunidade"
      ],
      "metadata": {
        "id": "QHg-38yCmncH"
      }
    },
    {
      "cell_type": "code",
      "source": [
        "df['JobSatisfaction_bin'] = df['JobSatisfaction'].apply(lambda x: 1 if x >= 3 else 0)\n"
      ],
      "metadata": {
        "id": "gs4eP4hhmu60"
      },
      "execution_count": null,
      "outputs": []
    },
    {
      "cell_type": "markdown",
      "source": [
        "Motivação: Categorização simples para regressão logística e KNN"
      ],
      "metadata": {
        "id": "B2IClS0nm86M"
      }
    },
    {
      "cell_type": "code",
      "source": [
        "df['StressScore'] = (\n",
        "    (df['OverTime'] == 'Yes').astype(int) +\n",
        "    (df['DistanceFromHome'] > 20).astype(int) +\n",
        "    (df['JobInvolvement'] <= 2).astype(int)\n",
        ")\n"
      ],
      "metadata": {
        "id": "sp1iEAfLnBRs"
      },
      "execution_count": null,
      "outputs": []
    },
    {
      "cell_type": "markdown",
      "source": [
        "Motivação: A junção dessas variáveis pode indicar fator de estresse, ou seja, maior propensão de saída"
      ],
      "metadata": {
        "id": "O1Ekx8nAnJN9"
      }
    },
    {
      "cell_type": "code",
      "source": [
        "# One-hot encoding das variáveis categóricas\n",
        "df = pd.get_dummies(df, columns=['BusinessTravel', 'Department', 'EducationField', 'Gender', 'JobRole', 'MaritalStatus', 'OverTime'], drop_first=True)"
      ],
      "metadata": {
        "id": "8VjhwsMGnUat"
      },
      "execution_count": null,
      "outputs": []
    },
    {
      "cell_type": "code",
      "source": [
        "# Retirando variaveis obsoletas\n",
        "df.drop(columns=[\n",
        "    'EmployeeNumber', 'EmployeeCount', 'Over18', 'StandardHours'\n",
        "], axis=1, inplace=True)"
      ],
      "metadata": {
        "id": "rW3svsW748fX"
      },
      "execution_count": null,
      "outputs": []
    },
    {
      "cell_type": "code",
      "source": [
        "# Salvar dataset final\n",
        "df.to_csv('dataset_feature_engineered.csv', index=False)\n"
      ],
      "metadata": {
        "id": "dMWKinb9A4Az"
      },
      "execution_count": null,
      "outputs": []
    }
  ]
}